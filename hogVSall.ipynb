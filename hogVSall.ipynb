{
 "cells": [
  {
   "cell_type": "code",
   "execution_count": 1,
   "metadata": {},
   "outputs": [],
   "source": [
    "import pandas\n",
    "data = pandas.read_csv('set.csv')"
   ]
  },
  {
   "cell_type": "code",
   "execution_count": 2,
   "metadata": {},
   "outputs": [],
   "source": [
    "a = data['col1'].values"
   ]
  },
  {
   "cell_type": "code",
   "execution_count": 3,
   "metadata": {},
   "outputs": [
    {
     "data": {
      "text/plain": [
       "array([ 2.66, -6.63, -3.13,  0.22, -4.8 ,  4.05, -5.38, -4.53,  1.55,\n",
       "        5.2 , -5.89, -4.57,  0.2 , -3.62, -0.54, -4.87,  4.69, -2.42,\n",
       "       -1.5 , -2.79, -6.15,  4.94,  3.01, -2.09, -3.34, -3.08, -6.01,\n",
       "       -5.52, -0.57,  0.07, -3.27, -6.11, -4.24, -4.08, -1.87, -2.38,\n",
       "       -3.69, -2.44, -4.53, -0.4 ,  3.51, -6.03, -6.63, -6.11, -4.44,\n",
       "        4.33,  0.2 , -4.63, -4.  , -0.5 , -6.08, -4.84, -5.32, -5.03,\n",
       "       -3.07, -2.78, -1.46, -5.65,  0.22, -0.28, -3.56, -4.26, -1.33,\n",
       "       -0.65, -5.81, -5.67, -1.53, -1.03, -3.42, -5.94, -3.59, -2.25,\n",
       "       -5.3 ,  3.01, -4.18, -3.53, -6.64, -5.16, -3.78, -1.21, -5.98,\n",
       "       -2.75, -1.74, -2.79, -2.75,  2.61, -3.2 ,  4.86, -1.36, -2.12,\n",
       "        5.05, -2.01, -3.75, -2.93, -1.08,  2.99, -4.92, -3.82, -1.5 ,\n",
       "        0.63, -4.42, -4.68, -4.7 , -1.78, -3.34, -4.85, -1.56,  5.47,\n",
       "       -5.57,  1.6 , -6.45, -6.59,  0.09,  4.79, -3.71, -3.14, -2.84,\n",
       "       -4.23, -1.31,  0.54, -5.14,  5.43, -2.07, -4.59, -3.81, -5.79,\n",
       "       -3.05, -3.71,  0.02,  0.53, -5.98,  6.34,  1.62, -4.99, -3.91,\n",
       "       -2.55,  6.35, -5.08, -5.69, -2.1 , -5.52, -1.57,  2.46, -5.62,\n",
       "       -0.61, -5.12, -5.73, -1.41, -1.34, -4.47, -3.96,  2.05,  0.21,\n",
       "       -0.99,  2.91, -5.31, -1.44, -4.41, -2.13, -6.13, -4.25, -2.73,\n",
       "       -4.2 , -4.87, -5.76,  5.67,  1.83,  4.41, -4.01, -3.77, -3.13,\n",
       "        4.59, -4.7 , -4.89, -3.89, -6.63, -4.3 , -0.9 ,  5.82,  1.71,\n",
       "       -0.6 ,  5.02, -4.52, -4.04, -3.92,  6.  , -2.69, -1.25, -3.19,\n",
       "        4.23, -5.81, -4.12, -4.21, -4.36,  3.46,  3.72, -1.39, -4.65,\n",
       "       -2.85,  0.27, -6.17,  0.39, -4.01,  2.2 , -2.64,  3.55,  1.2 ,\n",
       "        3.25,  1.75,  3.68,  1.65, -2.79,  2.32, -3.64, -4.94, -3.22,\n",
       "        1.81,  1.16, -1.75, -1.28, -3.66, -6.69, -0.93, -0.56, -1.07,\n",
       "        0.16, -6.64, -5.6 , -4.99,  2.1 ,  3.35, -0.55, -0.57, -5.87,\n",
       "        0.7 ,  5.77,  3.65,  2.29, -2.42,  4.67,  3.95,  0.11, -1.81,\n",
       "        1.83,  5.72,  4.24,  1.2 , -0.16,  6.09,  3.97, -0.79,  3.85,\n",
       "        5.96,  1.22,  3.24, -5.46,  3.81,  4.09, -3.23,  2.1 ,  3.2 ,\n",
       "        6.43,  5.  ,  4.74,  0.4 , -5.14, -0.66,  4.79,  3.06,  2.46,\n",
       "        2.71,  0.82, -1.99,  2.54,  0.43,  0.66,  2.86,  4.72,  3.02,\n",
       "        4.1 ,  2.87,  1.48,  0.08,  3.35, -0.91,  3.6 ,  3.85,  3.8 ,\n",
       "        4.06,  2.92,  6.24,  1.18,  5.82,  3.19,  5.2 ,  4.02,  4.43,\n",
       "        0.77,  2.36,  3.54, -2.19,  2.2 ,  3.65,  2.4 ,  4.54, -3.7 ,\n",
       "        0.2 ,  4.43,  3.04, -3.64,  4.04, -4.37,  3.39, -0.75,  1.5 ,\n",
       "        5.43,  3.44,  1.55,  2.51,  5.64,  6.07,  5.27,  7.14,  3.68,\n",
       "        3.12,  6.11,  2.58,  4.86,  1.61,  5.31, -2.62,  6.57,  1.58,\n",
       "       -1.96,  1.86,  6.32, -0.11,  5.2 ,  2.53,  5.47,  4.44, -4.78,\n",
       "       -3.72, -3.23,  1.44,  2.42,  1.74,  6.42,  2.91,  4.  ,  2.65,\n",
       "        5.7 ,  4.24,  3.77, -4.96,  1.65,  4.56,  4.75, -0.54,  4.27,\n",
       "        3.22,  0.12,  0.2 , -4.36, -1.55,  3.04,  2.55,  4.  ,  2.06,\n",
       "        4.8 ,  0.17,  0.74,  1.89,  3.71,  5.  ,  6.81,  2.31,  0.41,\n",
       "        6.68,  6.23,  6.15,  2.31, -0.04,  3.12,  4.42,  5.2 ,  5.52,\n",
       "        2.52,  6.53,  2.28,  6.85,  3.96, -4.28,  0.94,  2.78, -3.63,\n",
       "        0.46,  2.62,  3.75, -1.75,  1.42,  5.51,  0.95,  5.37,  3.78,\n",
       "        4.46, -0.91,  0.91,  3.49,  4.78,  0.82,  2.39,  5.47, -2.02,\n",
       "        5.56,  0.1 , -2.45,  3.76,  5.33,  5.24,  0.09, -2.04,  2.55,\n",
       "       -4.08,  3.19,  5.49,  3.87, -0.45,  3.43, -1.66,  1.14, -2.63,\n",
       "       -4.49, -1.73,  4.26, -5.6 , -2.49, -3.  , -5.2 , -1.58, -0.64,\n",
       "        6.69,  5.93,  1.49,  0.39, -4.56, -2.79, -0.29,  4.15,  5.74,\n",
       "       -0.44, -0.35,  3.18, -3.47,  1.38, -1.1 , -3.3 , -5.91,  0.78,\n",
       "       -1.87,  0.9 ,  2.51, -5.75, -1.3 ,  0.55, -1.09,  4.47,  0.07,\n",
       "       -3.43,  6.15, -3.52, -2.38, -0.37,  6.03, -2.23,  1.16, -1.69,\n",
       "        3.83,  4.33, -6.75, -2.54, -1.41, -5.52, -3.25, -1.92, -0.86,\n",
       "        1.28, -6.76, -4.75, -1.71, -1.8 , -3.04,  0.67, -6.7 ,  4.47,\n",
       "        5.27, -2.49,  1.22,  0.13, -2.05,  4.85, -5.29, -2.58,  6.81,\n",
       "        1.47, -1.45, -0.4 , -5.24, -4.43, -1.51, -4.65,  4.05, -1.65,\n",
       "        2.24, -5.61, -6.16, -0.12,  0.37, -2.32, -1.15, -3.71, -4.07,\n",
       "        1.39, -3.53,  4.65,  3.35,  2.89, -0.54, -3.43,  1.59,  3.58,\n",
       "        2.46, -0.51, -2.92,  3.38, -1.58,  1.95, -0.77, -3.47,  2.49,\n",
       "       -2.1 , -0.8 ,  0.9 , -0.95,  2.84, -0.2 , -0.56,  3.43, -0.19,\n",
       "       -1.29,  0.26, -5.63,  0.73, -3.54,  2.42, -0.35,  0.56,  1.77,\n",
       "        0.64, -6.03,  0.48, -5.29,  0.59, -5.81, -5.17, -3.66, -3.2 ,\n",
       "       -1.93, -5.3 ,  1.39, -3.09, -4.77, -3.85, -4.7 , -4.6 , -5.2 ,\n",
       "        0.72,  1.31, -4.59,  2.39,  2.98, -1.87,  0.36, -5.63,  1.98,\n",
       "       -0.52, -6.47, -6.18, -2.19, -3.19, -6.07, -0.57, -4.94,  1.49,\n",
       "       -3.55, -3.39,  2.79, -4.55, -5.1 ,  0.83, -6.19, -1.13,  1.11,\n",
       "        4.18, -4.81, -3.92, -4.66, -3.04, -0.3 , -3.45, -1.26, -4.32,\n",
       "        2.43, -3.02, -5.58, -5.24, -5.01,  2.33, -0.93, -5.63, -4.91,\n",
       "       -3.56, -5.8 , -0.33, -5.3 , -0.82,  1.99, -3.29, -4.63, -4.07,\n",
       "       -6.05,  2.46, -5.97, -4.03, -0.16, -4.68, -5.  , -5.45,  1.64,\n",
       "       -2.1 ,  3.07, -1.09, -0.2 ,  1.65,  0.35, -0.04,  1.86, -3.52,\n",
       "        0.19,  1.81, -3.29,  2.6 ,  0.11, -4.64, -5.41, -0.08,  1.17,\n",
       "        2.23,  1.59, -2.72, -5.76, -2.23, -5.48,  1.74,  1.52, -1.27,\n",
       "       -4.68, -5.61, -0.41,  0.76,  2.73,  2.39, -0.9 ,  4.56,  5.17,\n",
       "        1.16,  2.48,  4.33,  2.76,  1.16,  3.36,  1.46,  0.44,  3.86,\n",
       "        1.61,  2.31, -1.79,  0.94, -2.8 ,  2.46, -1.55,  3.92, -2.5 ,\n",
       "        2.83,  4.11, -2.89,  2.56,  2.44, -1.44,  2.67,  0.05, -0.25,\n",
       "        2.34,  2.45,  4.75,  1.18,  1.03,  5.06,  2.8 ,  0.45,  2.67,\n",
       "        2.28, -0.36,  2.97,  3.77,  2.06,  1.14,  3.9 , -1.27, -0.47,\n",
       "       -1.  ,  2.57,  1.5 , -5.12,  6.02,  1.48, -2.52,  0.41,  2.31,\n",
       "       -0.19,  2.43,  6.12,  5.54,  0.76,  3.8 , -0.98, -3.06,  3.54,\n",
       "       -0.26, -1.25, -0.23,  0.28,  1.33,  2.77,  5.4 , -2.71,  0.81,\n",
       "       -2.59,  1.8 ,  4.08,  0.78, -0.79,  3.08,  0.28,  3.26,  0.36,\n",
       "        5.53,  4.69,  0.96,  0.03,  0.23,  4.39,  6.18,  6.14, -0.45,\n",
       "       -1.65,  0.53, -0.09,  2.94,  2.54,  4.37,  2.59,  5.55,  3.52,\n",
       "       -2.61, -1.05,  0.77,  0.89, -3.13,  7.3 ,  1.38, -2.84,  3.29,\n",
       "        1.54,  4.35,  5.31,  0.54,  1.28,  3.72,  2.19,  6.05,  5.73,\n",
       "       -1.87,  5.04,  2.26,  0.9 ,  4.37,  2.76,  6.13,  0.9 ,  2.36,\n",
       "        3.66,  3.29,  5.05, -0.01,  4.29,  3.97,  5.05,  4.89,  0.62,\n",
       "        0.64,  2.06,  3.09, -0.65,  3.19,  3.91,  3.47,  5.02,  3.79,\n",
       "        3.29,  3.73, -1.88,  0.14,  5.92,  4.3 , -1.91,  3.96, -0.43,\n",
       "        5.46])"
      ]
     },
     "execution_count": 3,
     "metadata": {},
     "output_type": "execute_result"
    }
   ],
   "source": [
    "a"
   ]
  },
  {
   "cell_type": "code",
   "execution_count": 4,
   "metadata": {},
   "outputs": [],
   "source": [
    "b = data['col2'].values"
   ]
  },
  {
   "cell_type": "code",
   "execution_count": 5,
   "metadata": {},
   "outputs": [
    {
     "data": {
      "text/plain": [
       "array([-2.22,  2.38,  1.17, -2.69, -1.3 , -1.66, -0.26, -2.92, -2.25,\n",
       "       -6.86, -1.33, -3.09, -2.94,  0.24, -1.47, -1.17,  3.91,  1.02,\n",
       "       -4.78,  1.25,  1.36, -0.85,  5.3 , -0.16, -1.11,  1.8 , -0.49,\n",
       "       -1.23, -6.25, -6.06, -2.46, -0.76, -3.54, -0.35,  2.95,  2.01,\n",
       "       -3.64, -3.26, -0.65, -5.97,  1.45,  1.51,  0.99,  1.32, -0.46,\n",
       "        3.77,  3.28, -3.27, -1.02, -5.99,  1.43, -1.  ,  1.76,  1.2 ,\n",
       "       -0.82, -2.21, -5.57, -1.29, -2.16,  2.95, -2.27, -2.22, -2.05,\n",
       "       -6.38, -1.61,  2.03, -5.18, -5.68, -1.34, -0.59, -1.54, -2.93,\n",
       "        0.64,  3.57, -3.62,  0.88,  0.76, -1.09,  0.66, -5.36,  1.42,\n",
       "        1.63, -3.08, -2.36, -0.95, -2.89, -3.51, -6.44, -5.73,  1.43,\n",
       "        4.11, -1.95, -3.79, -2.09, -6.2 , -0.79, -2.55,  0.24,  0.85,\n",
       "       -3.81,  0.46,  1.12, -2.95,  2.79,  2.03, -2.88,  2.16, -0.14,\n",
       "       -0.74, -0.76,  0.83,  2.25, -6.33,  5.31,  1.65, -4.17,  2.05,\n",
       "       -2.09,  1.6 , -1.9 , -0.06, -6.56, -0.48,  2.39, -3.1 ,  2.48,\n",
       "       -3.28, -1.85, -6.27,  4.17,  0.09, -5.99, -1.72,  0.61,  0.89,\n",
       "       -1.63, -2.04,  1.56, -0.61, -1.15,  1.32,  0.6 , -3.17,  2.23,\n",
       "        5.61, -1.59, -0.82, -5.73, -2.26, -0.94, -3.59, -0.84,  1.33,\n",
       "       -5.76, -3.04, -0.13, -4.24,  0.62,  1.64, -1.35, -2.2 , -4.2 ,\n",
       "        0.05,  1.1 ,  0.98, -6.34, -0.72,  0.89, -0.56, -4.02,  1.99,\n",
       "        2.93, -3.37, -1.54,  0.95,  1.95,  1.93, -6.19, -3.87,  3.04,\n",
       "       -6.59, -0.13, -2.9 , -2.88,  0.75, -2.  , -0.82, -5.7 , -2.45,\n",
       "        0.83,  0.92, -0.14,  1.26,  2.7 , -3.18, -5.89, -4.85, -2.43,\n",
       "        0.77, -0.2 , -0.66,  4.7 ,  0.88,  3.75,  5.79, -0.26, -5.72,\n",
       "        1.84,  3.78,  0.6 , -5.35,  2.39,  3.83, -3.99,  0.95, -1.21,\n",
       "       -3.68,  5.88,  0.83, -5.3 ,  0.65,  1.22, -2.6 ,  4.61,  1.91,\n",
       "        0.25,  0.3 , -0.9 , -1.98,  0.15,  4.33,  2.3 , -6.2 ,  0.65,\n",
       "        1.66,  3.95,  0.93,  0.68,  0.59,  0.04, -2.45,  1.44,  4.01,\n",
       "        4.16, -0.29,  2.04,  0.86, -6.04, -3.23,  1.43,  2.38,  3.38,\n",
       "        0.89,  2.81,  0.92,  3.28,  2.99,  3.41,  3.13,  3.3 , -0.07,\n",
       "       -1.64,  0.75,  2.66,  2.34,  2.59,  4.62, -1.62,  7.29,  3.83,\n",
       "        3.7 , -0.83, -1.03,  2.82,  4.06,  1.1 , -4.92, -4.61,  3.64,\n",
       "        2.4 ,  0.44,  2.64,  4.98,  4.58,  4.02,  5.38,  0.53,  2.63,\n",
       "        4.03,  3.65, -3.19,  2.41, -2.08,  1.69, -2.15, -5.92,  3.45,\n",
       "        5.82, -0.91,  2.24,  0.65,  4.7 ,  4.51,  4.04,  3.54, -2.09,\n",
       "        2.86,  3.92,  2.98,  3.39,  4.43, -0.2 , -2.55,  1.32, -0.79,\n",
       "       -1.94,  4.04,  2.51,  1.26,  2.68, -2.78,  3.4 , -5.16,  1.47,\n",
       "        4.34,  2.64,  1.89,  2.12,  2.79, -5.21,  2.48, -1.62,  1.72,\n",
       "        5.09,  4.18, -0.62, -2.88, -1.77,  1.7 , -0.51,  1.82,  3.88,\n",
       "        5.25,  2.85,  3.78,  4.38,  3.6 , -5.48,  1.96,  4.3 ,  1.83,\n",
       "        3.77,  2.36,  3.77,  4.12,  2.66,  3.4 ,  1.33,  3.04, -6.09,\n",
       "        0.08, -6.02,  2.24,  5.29,  4.01,  1.56,  4.94,  3.52,  3.53,\n",
       "        3.78,  3.62,  3.26,  1.32,  2.93,  1.19, -1.61, -4.94,  1.33,\n",
       "        1.77, -5.59,  2.27, -4.74,  0.23,  2.93,  5.75,  1.92, -3.81,\n",
       "       -5.91, -5.05,  3.46, -4.15, -6.2 ,  3.48,  4.26,  5.56,  5.63,\n",
       "        4.76,  2.91, -0.56,  1.87, -5.89,  2.22,  4.96,  1.86,  5.08,\n",
       "        1.63,  5.53,  4.09,  6.14,  4.13, -5.44,  4.2 ,  3.9 ,  3.28,\n",
       "       -0.49, -1.04,  3.82,  1.06, -0.28,  3.33,  2.59, -5.25, -2.39,\n",
       "        4.29, -3.48, -1.08, -0.75, -0.87, -4.35,  2.65, -6.06,  4.72,\n",
       "        1.97, -2.59,  2.56, -0.74, -0.81,  2.67,  1.98,  1.84, -4.26,\n",
       "       -3.02,  1.59,  2.38, -6.36,  0.27,  3.08, -6.  , -0.26, -3.83,\n",
       "       -6.17,  0.96,  0.29,  3.54, -1.55, -5.76, -1.17,  2.41, -6.27,\n",
       "        2.82,  0.88,  3.57, -0.8 ,  2.42,  2.47, -6.07, -2.48,  0.7 ,\n",
       "        1.72,  2.95,  3.61,  2.44, -6.43, -1.99, -2.5 ,  1.81,  0.01,\n",
       "        3.65,  0.79,  1.2 ,  2.46, -5.87,  1.79,  1.76,  2.85, -5.53,\n",
       "        3.53,  1.52,  1.66, -1.98,  1.04,  3.42,  3.73,  2.13,  2.27,\n",
       "       -3.02,  0.48,  0.69, -6.17,  3.57, -2.95, -0.67,  4.91, -4.51,\n",
       "       -1.42, -1.91,  3.61, -1.5 ,  1.37,  2.54,  0.46,  0.74,  0.9 ,\n",
       "        2.65,  0.7 ,  3.44,  0.71,  2.81, -2.53, -5.91,  2.68,  1.62,\n",
       "        3.1 , -0.32,  0.37, -0.03, -2.54, -6.08, -0.95, -1.72,  3.11,\n",
       "        1.91, -5.96, -0.9 ,  1.22, -5.74, -2.37, -6.3 ,  2.6 ,  4.16,\n",
       "        2.56, -6.  , -1.77,  2.43, -1.94,  0.79, -0.37,  3.38, -6.36,\n",
       "       -0.52, -1.14, -1.17, -0.22,  1.43, -1.71, -1.99,  3.27, -1.91,\n",
       "       -1.31, -2.08, -3.26, -1.58, -1.4 , -2.18, -2.04,  1.68,  0.23,\n",
       "        1.69, -1.98, -1.55,  1.17, -3.1 , -0.86, -0.26, -2.95, -0.32,\n",
       "        1.08, -0.46, -2.52, -4.32, -0.28, -4.24, -2.15, -1.07, -1.98,\n",
       "       -1.01,  1.56, -1.61,  1.12,  1.54, -1.3 ,  3.82, -1.7 , -1.55,\n",
       "        0.79, -0.61,  0.17, -3.43, -2.61, -0.44, -0.37,  0.1 , -1.82,\n",
       "       -4.52, -0.95,  1.42, -1.2 , -0.16,  2.8 , -0.64, -5.23,  0.88,\n",
       "       -0.73,  2.72,  0.33,  2.7 , -1.98,  3.09, -0.08,  1.03,  1.41,\n",
       "        1.03, -1.58,  0.32, -0.93, -0.75, -0.38,  0.56, -2.75, -1.42,\n",
       "       -0.34, -4.28, -0.69,  2.47, -1.28,  1.23, -2.22, -0.44,  0.04,\n",
       "        0.54, -0.57, -0.71,  0.23, -0.53,  0.76, -2.15,  3.18,  1.75,\n",
       "       -1.99, -1.31,  1.5 , -1.79, -3.36,  3.9 , -2.03, -1.5 , -1.38,\n",
       "        3.95, -0.61,  3.16, -0.18, -0.1 , -2.25, -0.65,  4.19,  2.22,\n",
       "       -0.58,  2.07,  3.44,  1.1 , -1.6 ,  5.61, -2.34,  1.73, -6.17,\n",
       "        0.3 , -0.95,  1.76,  3.99, -5.55, -3.73, -1.55,  2.33, -2.06,\n",
       "       -2.92, -2.07,  2.11,  0.19,  3.1 ,  0.98, -1.31,  2.93, -2.18,\n",
       "        3.1 ,  1.99,  2.23, -1.1 ,  6.14, -2.35,  4.15,  0.26,  0.03,\n",
       "       -1.64,  0.98, -6.7 , -6.14, -2.11, -3.17, -0.16,  1.65, -0.18,\n",
       "       -0.66,  0.94,  4.56, -0.66,  3.71,  6.66,  3.25, -3.94,  3.51,\n",
       "       -0.08, -0.13, -6.03,  3.74, -4.16,  4.21, -0.62, -5.81, -3.58,\n",
       "       -6.36,  1.5 , -3.62,  3.66, -2.75, -6.26,  4.98, -1.51, -0.15,\n",
       "        1.23, -1.28,  2.71,  3.56,  5.3 ,  2.69,  0.12, -0.1 ,  3.6 ,\n",
       "       -4.1 , -3.96,  1.32,  2.92,  2.73,  0.48,  0.05,  3.64,  4.28,\n",
       "       -6.89, -0.74, -2.38,  2.85,  2.26, -1.69,  4.98, -6.81, -0.2 ,\n",
       "        0.97,  2.51,  0.  ,  5.1 ,  0.8 , -4.19, -1.36, -5.87, -0.41,\n",
       "       -1.42, -3.46,  2.12, -1.35,  4.08, -5.93, -1.47,  0.98,  3.44,\n",
       "        2.8 , -2.82,  2.08, -3.31,  2.33, -0.59, -0.5 , -5.34,  0.91,\n",
       "       -3.01,  0.82, -0.79,  3.84,  0.54,  3.59,  0.04, -1.25, -1.34,\n",
       "        1.79, -1.93, -7.05, -1.26, -1.18, -1.74, -2.89,  4.82, -1.41,\n",
       "        0.88, -1.83, -2.07,  3.34, -1.67,  3.61, -4.49,  1.87,  2.34,\n",
       "       -1.06, -2.33,  2.89, -4.35,  2.72,  3.45,  4.6 ,  2.25,  3.85,\n",
       "        0.69])"
      ]
     },
     "execution_count": 5,
     "metadata": {},
     "output_type": "execute_result"
    }
   ],
   "source": [
    "b"
   ]
  },
  {
   "cell_type": "code",
   "execution_count": 6,
   "metadata": {},
   "outputs": [],
   "source": [
    "import numpy as np\n",
    "set=np.column_stack((a,b))"
   ]
  },
  {
   "cell_type": "code",
   "execution_count": 7,
   "metadata": {},
   "outputs": [
    {
     "name": "stdout",
     "output_type": "stream",
     "text": [
      "Accuracy: 0.5084337349397591\n",
      "Accuracy: 0.5210843373493976\n",
      "Accuracy: 0.5140562248995983\n",
      "Accuracy: 0.5662650602409639\n",
      "Accuracy: 0.5783132530120482\n"
     ]
    }
   ],
   "source": [
    "from sklearn.model_selection import train_test_split\n",
    "from sklearn.naive_bayes import GaussianNB\n",
    "from sklearn import metrics\n",
    "from sklearn.metrics import accuracy_score, f1_score, precision_score, recall_score, classification_report, confusion_matrix\n",
    "import glob\n",
    "label=[]\n",
    "a=[]\n",
    "for im in glob.glob('dataset/*/*'):\n",
    "   l=(im.split('.')[0].split('\\\\')[1])\n",
    "   label.append(l)\n",
    "    \n",
    "r=[0.5,0.4,0.3,0.2,0.1]\n",
    "for i in r:\n",
    "    X_train, X_test, y_train, y_test = train_test_split(data, label, test_size=i,random_state=4)\n",
    "    gnb = GaussianNB()\n",
    "    gnb.fit(X_train, y_train)\n",
    "    y_pred = gnb.predict(X_test)\n",
    "    print(\"Accuracy:\",metrics.accuracy_score(y_test, y_pred))\n",
    "    a.append(metrics.accuracy_score(y_test, y_pred))\n",
    "    "
   ]
  },
  {
   "cell_type": "code",
   "execution_count": 8,
   "metadata": {},
   "outputs": [
    {
     "name": "stdout",
     "output_type": "stream",
     "text": [
      "Accuracy: 0.4433734939759036\n",
      "Accuracy: 0.4457831325301205\n",
      "Accuracy: 0.4497991967871486\n",
      "Accuracy: 0.4879518072289157\n",
      "Accuracy: 0.4578313253012048\n"
     ]
    }
   ],
   "source": [
    "from sklearn.model_selection import train_test_split\n",
    "from sklearn.naive_bayes import GaussianNB\n",
    "from sklearn import metrics\n",
    "from sklearn.metrics import accuracy_score, f1_score, precision_score, recall_score, classification_report, confusion_matrix\n",
    "import glob\n",
    "label=[]\n",
    "t=[]\n",
    "for im in glob.glob('dataset/*/*'):\n",
    "   l=(im.split('.')[0].split('\\\\')[1])\n",
    "   label.append(l)\n",
    "r=[0.5,0.4,0.3,0.2,0.1]\n",
    "for i in r:\n",
    "    X_train, X_test, y_train, y_test = train_test_split(set, label, test_size=i,random_state=4)\n",
    "    gnb = GaussianNB()\n",
    "    gnb.fit(X_train, y_train)\n",
    "\n",
    "    y_pred = gnb.predict(X_test)\n",
    "    print(\"Accuracy:\",metrics.accuracy_score(y_test, y_pred))\n",
    "    t.append(metrics.accuracy_score(y_test, y_pred))"
   ]
  },
  {
   "cell_type": "code",
   "execution_count": 10,
   "metadata": {},
   "outputs": [
    {
     "data": {
      "image/png": "[encoded data removed]",
      "text/plain": [
       "<Figure size 432x288 with 1 Axes>"
      ]
     },
     "metadata": {
      "needs_background": "light"
     },
     "output_type": "display_data"
    }
   ],
   "source": [
    "import matplotlib.pyplot as plt\n",
    "import numpy as np\n",
    "n_groups=5\n",
    "index = np.arange(n_groups)\n",
    "\n",
    "plt.plot(a,label='All attributes')\n",
    "plt.plot(t,label='HoG')\n",
    "plt.xticks(index+0.15, ('50:50', '60:40', '70:30', '80:20', '90:10'))\n",
    "plt.title('Accuracy of HOG and All attribtes with different size test data for Naive Bayes')\n",
    "plt.ylabel('Accuracy')\n",
    "plt.xlabel('Configuration')\n",
    "plt.legend()\n",
    "plt.show()"
   ]
  },
  {
   "cell_type": "code",
   "execution_count": 12,
   "metadata": {},
   "outputs": [
    {
     "name": "stdout",
     "output_type": "stream",
     "text": [
      "0.41204819277108434\n",
      "0.4126506024096386\n",
      "0.39357429718875503\n",
      "0.41566265060240964\n",
      "0.37349397590361444\n"
     ]
    }
   ],
   "source": [
    "from sklearn.neighbors import KNeighborsClassifier \n",
    "r=[0.5,0.4,0.3,0.2,0.1]\n",
    "z=[]\n",
    "for i in r:\n",
    "    X_train, X_test, y_train, y_test = train_test_split(set, label, test_size=i,random_state=4)\n",
    "    knn = KNeighborsClassifier(n_neighbors=7)\n",
    "    knn.fit(X_train, y_train)\n",
    "    y_pred = knn.predict(X_test)\n",
    "    print(metrics.accuracy_score(y_test,y_pred))\n",
    "    z.append(metrics.accuracy_score(y_test, y_pred))"
   ]
  },
  {
   "cell_type": "code",
   "execution_count": 13,
   "metadata": {},
   "outputs": [
    {
     "name": "stdout",
     "output_type": "stream",
     "text": [
      "0.5614457831325301\n",
      "0.5783132530120482\n",
      "0.5983935742971888\n",
      "0.6265060240963856\n",
      "0.6265060240963856\n"
     ]
    }
   ],
   "source": [
    "r=[0.5,0.4,0.3,0.2,0.1]\n",
    "v=[]\n",
    "for i in r:\n",
    "    X_train, X_test, y_train, y_test = train_test_split(data, label, test_size=i,random_state=4)\n",
    "    knn = KNeighborsClassifier(n_neighbors=7)\n",
    "    knn.fit(X_train, y_train)\n",
    "    y_pred = knn.predict(X_test)\n",
    "    print(metrics.accuracy_score(y_test,y_pred))\n",
    "    v.append(metrics.accuracy_score(y_test, y_pred))"
   ]
  },
  {
   "cell_type": "code",
   "execution_count": 14,
   "metadata": {},
   "outputs": [
    {
     "data": {
      "image/png": "[encoded data removed]",
      "text/plain": [
       "<Figure size 432x288 with 1 Axes>"
      ]
     },
     "metadata": {
      "needs_background": "light"
     },
     "output_type": "display_data"
    }
   ],
   "source": [
    "import matplotlib.pyplot as plt\n",
    "import numpy as np\n",
    "n_groups=5\n",
    "index = np.arange(n_groups)\n",
    "\n",
    "plt.plot(v,label='All attributes')\n",
    "plt.plot(z,label='HoG')\n",
    "plt.xticks(index+0.15, ('50:50', '60:40', '70:30', '80:20', '90:10'))\n",
    "plt.title('Accuracy of HOG and All attribtes with different size test data for KNN')\n",
    "plt.ylabel('Accuracy')\n",
    "plt.xlabel('Configuration')\n",
    "plt.legend()\n",
    "plt.show()"
   ]
  },
  {
   "cell_type": "code",
   "execution_count": null,
   "metadata": {},
   "outputs": [],
   "source": []
  }
 ],
 "metadata": {
  "kernelspec": {
   "display_name": "Python 3",
   "language": "python",
   "name": "python3"
  },
  "language_info": {
   "codemirror_mode": {
    "name": "ipython",
    "version": 3
   },
   "file_extension": ".py",
   "mimetype": "text/x-python",
   "name": "python",
   "nbconvert_exporter": "python",
   "pygments_lexer": "ipython3",
   "version": "3.7.1"
  }
 },
 "nbformat": 4,
 "nbformat_minor": 2
}
